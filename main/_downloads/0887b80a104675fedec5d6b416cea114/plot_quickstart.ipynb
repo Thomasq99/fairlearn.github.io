{
  "cells": [
    {
      "cell_type": "code",
      "execution_count": null,
      "metadata": {
        "collapsed": false
      },
      "outputs": [],
      "source": [
        "%matplotlib inline"
      ]
    },
    {
      "cell_type": "markdown",
      "metadata": {},
      "source": [
        "MetricFrame visualizations\n==========================\n"
      ]
    },
    {
      "cell_type": "code",
      "execution_count": null,
      "metadata": {
        "collapsed": false
      },
      "outputs": [],
      "source": [
        "from fairlearn.metrics import MetricFrame, false_positive_rate, true_positive_rate, selection_rate, count\nimport pandas as pd\nfrom sklearn.datasets import fetch_openml\nfrom sklearn.metrics import accuracy_score, precision_score, recall_score\nfrom sklearn.tree import DecisionTreeClassifier\n\ndata = fetch_openml(data_id=1590, as_frame=True)\nX = pd.get_dummies(data.data)\ny_true = (data.target == '>50K') * 1\nsex = data.data['sex']\n\nclassifier = DecisionTreeClassifier(min_samples_leaf=10, max_depth=4)\nclassifier.fit(X, y_true)\ny_pred = classifier.predict(X)\n\n# Analyze metrics using MetricFrame\nmetrics = {\n    'accuracy': accuracy_score,\n    'precision': precision_score,\n    'recall': recall_score,\n    'false positive rate': false_positive_rate,\n    'true positive rate': true_positive_rate,\n    'selection rate': selection_rate,\n    'count': count}\nmetric_frame = MetricFrame(metrics, y_true, y_pred, sensitive_features=sex)\nmetric_frame.by_group.plot.bar(\n    subplots=True, layout=[3, 3], legend=False, figsize=[12, 8],\n    title='Show all metrics')"
      ]
    }
  ],
  "metadata": {
    "kernelspec": {
      "display_name": "Python 3",
      "language": "python",
      "name": "python3"
    },
    "language_info": {
      "codemirror_mode": {
        "name": "ipython",
        "version": 3
      },
      "file_extension": ".py",
      "mimetype": "text/x-python",
      "name": "python",
      "nbconvert_exporter": "python",
      "pygments_lexer": "ipython3",
      "version": "3.7.3"
    }
  },
  "nbformat": 4,
  "nbformat_minor": 0
}