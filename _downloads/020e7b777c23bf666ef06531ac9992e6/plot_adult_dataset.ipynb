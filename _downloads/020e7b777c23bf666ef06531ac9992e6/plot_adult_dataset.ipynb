{
  "cells": [
    {
      "cell_type": "code",
      "execution_count": null,
      "metadata": {
        "collapsed": false
      },
      "outputs": [],
      "source": [
        "%matplotlib inline"
      ]
    },
    {
      "cell_type": "markdown",
      "metadata": {},
      "source": [
        "\n# Plotting the UCI Adult Dataset\n\n"
      ]
    },
    {
      "cell_type": "code",
      "execution_count": null,
      "metadata": {
        "collapsed": false
      },
      "outputs": [],
      "source": [
        "print(__doc__)\n\nimport matplotlib.pyplot as plt\nimport shap  # shap is only used its dataset utility\n\n\n# shap tries to cache the dataset locally which results in a permissions error\n# in CircleCI, so we rewrite the cache functionality\ndef do_not_cache(url, filename=None):\n    return url\n\n\n# overwrite cache function\nshap.datasets.cache = do_not_cache  # noqa: F811\n\nX, y_true = shap.datasets.adult()\ny_true = y_true * 1\nsex = X['Sex'].apply(lambda sex: \"female\" if sex == 0 else \"male\")\n\n\ndef percentage_with_label_1(sex_value):\n    return y_true[sex == sex_value].sum() / (sex == sex_value).sum()\n\n\nplt.bar([0, 1], [percentage_with_label_1(\"female\"), percentage_with_label_1(\"male\")], color='g')\nplt.xticks([0, 1], [\"female\", \"male\"])\nplt.ylabel(\"percentage earning over $50,000\")\nplt.xlabel(\"sex\")\nplt.show()"
      ]
    }
  ],
  "metadata": {
    "kernelspec": {
      "display_name": "Python 3",
      "language": "python",
      "name": "python3"
    },
    "language_info": {
      "codemirror_mode": {
        "name": "ipython",
        "version": 3
      },
      "file_extension": ".py",
      "mimetype": "text/x-python",
      "name": "python",
      "nbconvert_exporter": "python",
      "pygments_lexer": "ipython3",
      "version": "3.7.3"
    }
  },
  "nbformat": 4,
  "nbformat_minor": 0
}